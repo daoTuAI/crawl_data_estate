{
 "cells": [
  {
   "cell_type": "code",
   "execution_count": 67,
   "metadata": {},
   "outputs": [
    {
     "name": "stdout",
     "output_type": "stream",
     "text": [
      "- Finish importing packages\n"
     ]
    }
   ],
   "source": [
    "# Import libraries and packages for the project \n",
    "\n",
    "from selenium import webdriver\n",
    "from selenium.webdriver.common.keys import Keys\n",
    "from bs4 import BeautifulSoup\n",
    "from time import sleep\n",
    "import csv\n",
    "\n",
    "print('- Finish importing packages')"
   ]
  },
  {
   "cell_type": "code",
   "execution_count": 68,
   "metadata": {},
   "outputs": [
    {
     "name": "stderr",
     "output_type": "stream",
     "text": [
      "/home/congtu/anaconda3/lib/python3.7/site-packages/ipykernel_launcher.py:4: DeprecationWarning: executable_path has been deprecated, please pass in a Service object\n",
      "  after removing the cwd from sys.path.\n"
     ]
    },
    {
     "name": "stdout",
     "output_type": "stream",
     "text": [
      "- Finish initializing a driver\n"
     ]
    }
   ],
   "source": [
    "# Task 1: Login to Linkedin\n",
    "\n",
    "# Task 1.1: Open Chrome and Access Linkedin login site\n",
    "driver = webdriver.Chrome(\"/home/congtu/Documents/Hoc/XuLyDuLieuLon/BTL/Crawl_data/chromedriver\")\n",
    "driver.set_window_size(1920,1080)\n",
    "sleep(2)\n",
    "url = 'https://batdongsan.com.vn/ban-can-ho-chung-cu'\n",
    "driver.get(url)\n",
    "print('- Finish initializing a driver')\n",
    "sleep(2)"
   ]
  },
  {
   "cell_type": "code",
   "execution_count": 69,
   "metadata": {},
   "outputs": [
    {
     "name": "stdout",
     "output_type": "stream",
     "text": [
      "How many pages you want to scrape: 1\n"
     ]
    },
    {
     "name": "stderr",
     "output_type": "stream",
     "text": [
      "/home/congtu/anaconda3/lib/python3.7/site-packages/ipykernel_launcher.py:24: DeprecationWarning: find_element_by_* commands are deprecated. Please use find_element() instead\n"
     ]
    },
    {
     "name": "stdout",
     "output_type": "stream",
     "text": [
      "- Finish Task 3: Scrape the URLs\n"
     ]
    }
   ],
   "source": [
    "# Task 3: Scrape the URLs of the profiles\n",
    "# Task 3.1: Write a function to extract the URLs of one page\n",
    "def GetURL():\n",
    "    page_source = BeautifulSoup(driver.page_source, \"html.parser\")\n",
    "    profiles = page_source.find_all('a', class_ = 'js__product-link-for-product-id') #('a', class_ = 'search-result__result-link ember-view')\n",
    "    all_profile_URL = []\n",
    "    for profile in profiles:\n",
    "        # profile_ID = profile.get('href')\n",
    "        profile_URL = \"https://batdongsan.com.vn\" + profile.get('href')\n",
    "        # profile_URL = profile.get('href')\n",
    "        if profile_URL not in all_profile_URL:\n",
    "            all_profile_URL.append(profile_URL)\n",
    "    return all_profile_URL\n",
    "\n",
    "\n",
    "# Task 3.2: Navigate through many page, and extract the profile URLs of each page\n",
    "input_page = int(input('How many pages you want to scrape: '))\n",
    "URLs_all_page = []\n",
    "for page in range(input_page):\n",
    "    URLs_one_page = GetURL()\n",
    "    sleep(2)\n",
    "    driver.execute_script('window.scrollTo(0, document.body.scrollHeight);') #scroll to the end of the page\n",
    "    sleep(3)\n",
    "    next_button = driver.find_element_by_class_name(\"re__icon-chevron-right--sm\")\n",
    "    driver.execute_script(\"arguments[0].click();\", next_button)\n",
    "    URLs_all_page = URLs_all_page + URLs_one_page\n",
    "    sleep(2)\n",
    "print('- Finish Task 3: Scrape the URLs')"
   ]
  },
  {
   "cell_type": "code",
   "execution_count": 96,
   "metadata": {},
   "outputs": [
    {
     "name": "stdout",
     "output_type": "stream",
     "text": [
      "- Accessing profile:  https://batdongsan.com.vn/ban-can-ho-chung-cu-duong-hong-ha-phuong-9-12-prj-orchard-garden/-ban-officetel-og-0205-chinh-chu-pr31534496\n",
      "--- s is:  22/11/2021\n",
      "--- s is:  02/12/2021\n"
     ]
    }
   ],
   "source": [
    "driver.get(linkedin_URL)\n",
    "print('- Accessing profile: ', linkedin_URL)\n",
    "\n",
    "page_source = BeautifulSoup(driver.page_source, \"html.parser\")\n",
    "ngay = page_source.find('div',{'class':'re__pr-short-info re__pr-config js__pr-config'}).find_all(\"div\", {\"class\" : \"re__pr-short-info-item js__pr-config-item\"})          \n",
    "dang = ngay[0].find(\"span\", {\"class\" : \"value\"}).get_text().strip()\n",
    "het = ngay[1].find(\"span\", {\"class\" : \"value\"}).get_text().strip()\n",
    "\n",
    "print('--- s is: ', dang)\n",
    "print('--- s is: ', het)\n"
   ]
  },
  {
   "cell_type": "code",
   "execution_count": 106,
   "metadata": {},
   "outputs": [
    {
     "name": "stdout",
     "output_type": "stream",
     "text": [
      "- Accessing profile:  https://batdongsan.com.vn/ban-can-ho-chung-cu-duong-xa-lo-ha-noi-phuong-thao-dien-prj-masteri-thao-dien/chuyen-chuyen-nhuong-quan-2-da-co-so-ng-lh-em-png-0938307796-pr31408706\n",
      "--- name is:  Chuyên chuyển nhượng căn hộ Masteri Thảo Điền, Quận 2, đã có sổ hồng LH 0938307*** Mr Phong\n",
      "--- address is:  Dự án Masteri Thảo Điền, Đường Xa Lộ Hà Nội, Phường Thảo Điền, Quận 2, Hồ Chí Minh\n",
      "--- city is:  Hồ Chí Minh\n",
      "--- district is:  Quận 2\n",
      "--- project name is:  Masteri Thảo Điền\n",
      "--- investor is:  Masterise Group\n",
      "- Accessing profile:  https://batdongsan.com.vn/ban-can-ho-chung-cu-duong-le-quang-dao-phuong-me-tri-prj-the-matrix-one/-chot-deal-nha-sang-nhan-ngay-loc-vang-cung-one-pr31554248\n",
      "--- name is:  \"CHỐT DEAL\" NHÀ SANG, NHẬN NGAY LỘC VÀNG CÙNG THE MATRIX ONE.\n",
      "--- address is:  Dự án The Matrix One, Đường Lê Quang Đạo, Phường Mễ Trì, Nam Từ Liêm, Hà Nội\n",
      "--- city is:  Hà Nội\n",
      "--- district is:  Nam Từ Liêm\n",
      "--- project name is:  The Matrix One\n",
      "--- investor is:  Công ty Cổ phần Đầu tư Mai Linh\n",
      "- Accessing profile:  https://batdongsan.com.vn/ban-can-ho-chung-cu-pho-lieu-giai-phuong-ngoc-khanh-prj-vinhomes-metropolis-lieu-giai/xem-nha-24-7-chuyen-ban-cat-lo-cc-gia-re-nhat-thi-truong-lh-0798116886-pr31552766\n",
      "--- name is:  Xem nhà 24/7: Chuyên bán cắt lỗ CC Vinhomes Metropolis giá rẻ nhất thị trường, LH 0798116***\n",
      "--- address is:  Dự án Vinhomes Metropolis - Liễu Giai, Ba Đình, Hà Nội\n",
      "--- city is:  Hà Nội\n",
      "--- district is:  Ba Đình\n",
      "--- project name is:  Vinhomes Metropolis - Liễu Giai\n",
      "--- investor is:  Tập đoàn Vingroup\n",
      "- Accessing profile:  https://batdongsan.com.vn/ban-can-ho-chung-cu-duong-nguyen-trai-phuong-thuong-dinh-prj-royal-city/chuyen-ban-cat-lo-xem-nha-ngay-24-7-lien-he-086-668-5679-pr31552581\n",
      "--- name is:  Chuyên bán cắt lỗ chung cư Royal City, xem nhà ngay 24/7, liên hệ: 086.668.5***\n",
      "--- address is:  Dự án Royal City, Quận Thanh Xuân, Hà Nội\n",
      "--- city is:  Hà Nội\n",
      "--- district is:  Quận Thanh Xuân\n",
      "--- project name is:  Royal City\n",
      "--- investor is:  Tập đoàn Vingroup\n",
      "- Accessing profile:  https://batdongsan.com.vn/ban-can-ho-chung-cu-phuong-long-thanh-my-prj-vinhomes-grand-park/mo-ban-phan-khu-cao-cap-beverly-mat-cong-vien-36ha-gia-tu-45tr-m2-lh-0903040462-pr31551958\n",
      "--- name is:  MỞ BÁN PHÂN KHU CAO CẤP BEVERLY MẶT CÔNG VIÊN 36HA GIÁ TỪ 45TR/M2 LH 0903040462\n",
      "--- address is:  Dự án Vinhomes Grand Park,  Quận 9, Hồ Chí Minh\n",
      "--- city is:  Hồ Chí Minh\n",
      "--- district is:  Quận 9\n",
      "--- project name is:  Vinhomes Grand Park\n",
      "--- investor is:  Tập đoàn Vingroup\n",
      "- Accessing profile:  https://batdongsan.com.vn/ban-can-ho-chung-cu-duong-nguyen-van-linh-phuong-tan-thuan-tay-1-prj-eco-green-sai-gon/ro-hang-chu-nha-t5-2021-gia-canh-tranh-nhat-thi-truong-tro-24-7-v-realty-agency-pr29822847\n",
      "--- name is:  Rổ hàng chính chủ toàn dự án Eco Green T11/2021 cạnh tranh nhất. Xem nhà 24/7 và 360 tour.\n",
      "--- address is:  Dự án Eco Green Sài Gòn, Đường Nguyễn Văn Linh, Phường Tân Thuận Tây, Quận 7, Hồ Chí Minh\n",
      "--- city is:  Hồ Chí Minh\n",
      "--- district is:  Quận 7\n",
      "--- project name is:  Eco Green Sài Gòn\n",
      "--- investor is:  Công ty CP Đầu tư và Xây dựng Xuân Mai\n",
      "- Accessing profile:  https://batdongsan.com.vn/ban-can-ho-chung-cu-duong-nguyen-huu-canh-phuong-22-prj-vinhomes-central-park/chuyen-ban-vinmes-1-2-3-4-pn-va-landmark-81-gia-tot-nhat-lh-ngay-0901692239-pr28094702\n",
      "--- name is:  Bán căn hộ Vinhomes Central Park giá tốt nhất thị trường (1,2,3,4 PN). Khánh Huyền 0901692239\n",
      "--- address is:  Dự án Vinhomes Central Park, Đường Nguyễn Hữu Cảnh, Phường 22, Bình Thạnh, Hồ Chí Minh\n",
      "--- city is:  Hồ Chí Minh\n",
      "--- district is:  Bình Thạnh\n",
      "--- project name is:  Vinhomes Central Park\n",
      "--- investor is:  Tập đoàn Vingroup\n",
      "- Accessing profile:  https://batdongsan.com.vn/ban-can-ho-chung-cu-duong-quoc-lo-13-phuong-vinh-phu-prj-marina-tower/chinh-chu-ban-gap-san-vuon-72m2-2pn-va-san-vuon-18m2-nha-moi-100-pr25614641\n",
      "--- name is:  CH ở liền Marina Tower 2-3PN, DT 54m2, 60m2, 71m2, 80m2 có sổ, ngay bệnh viện quốc tế Hạnh Phúc\n",
      "--- address is:  Dự án Marina Tower, Đường Quốc Lộ 13, Phường Vĩnh Phú, Thuận An, Bình Dương\n",
      "--- city is:  Bình Dương\n",
      "--- district is:  Thuận An\n",
      "--- project name is:  Marina Tower\n",
      "--- investor is:  Công ty CP Đầu tư LDG\n",
      "- Accessing profile:  https://batdongsan.com.vn/ban-can-ho-chung-cu-duong-do-duc-duc-phuong-me-tri-prj-vinhomes-west-point/doc-quyen-ban-lai-lo-goc-tang-16-135m2-vao-ten-truc-tiep-chu-dau-tu-point-pr31547910\n",
      "--- name is:  Độc Quyền Suất Ngoại Giao Lô Góc tầng 16 Vào Tên Trực Tiếp Chủ Đầu Tư Vinhomes West Point.\n",
      "--- address is:  Dự án Vinhomes West Point, Đường Đỗ Đức Dục, Phường Mễ Trì, Nam Từ Liêm, Hà Nội.\n",
      "--- city is:  Hà Nội\n",
      "--- district is:  Nam Từ Liêm\n",
      "--- project name is:  Vinhomes West Point\n",
      "--- investor is:  Tập đoàn Vingroup\n",
      "- Accessing profile:  https://batdongsan.com.vn/ban-can-ho-chung-cu-phuong-dai-mo-prj-vinhomes-smart-city/chinh-chu-ban-gap-2pn-phan-khu-sakura-gs1-vinmes-gia-hap-dan-lh-0368991789-pr31546903\n",
      "--- name is:  Chính chủ bán gấp căn hộ 2PN phân khu Sakura, GS1 Vinhomes Smart City, giá hấp dẫn. LH: 0368991***\n",
      "--- address is:  Dự án Vinhomes Smart City , Phường Đại Mỗ, Nam Từ Liêm, Hà Nội\n",
      "--- city is:  Hà Nội\n",
      "--- district is:  Nam Từ Liêm\n",
      "--- project name is:  Vinhomes Smart City\n",
      "--- investor is:  Tập đoàn Vingroup\n",
      "- Accessing profile:  https://batdongsan.com.vn/ban-can-ho-chung-cu-phuong-long-thanh-my-prj-vinhomes-grand-park/-chinh-thuc-mo-ban-beverly-gia-ngang-origami-ck-toi-22-lh-0938703286-nhan-full-ro-hang-pr31547461\n",
      "--- name is:  Vinhomes chính thức mở bán Beverly giá ngang origami ck tới 22% lh 0938703*** nhận full rổ hàng\n",
      "--- address is:  Dự án Vinhomes Grand Park quận 9, Phường Long Thạnh Mỹ, Quận 9, Hồ Chí Minh\n",
      "--- city is:  Hồ Chí Minh\n",
      "--- district is:  Quận 9\n",
      "--- project name is:  Vinhomes Grand Park\n",
      "--- investor is:  Tập đoàn Vingroup\n",
      "- Accessing profile:  https://batdongsan.com.vn/ban-can-ho-chung-cu-duong-nguyen-xien-phuong-long-thanh-my-prj-vinhomes-grand-park/mo-ban-the-beverlystudio-1-2-3-pn-nha-pho-biet-thu-quan-9-gia-goc-lh-0909060957-pr31546244\n",
      "--- name is:  MỞ BÁN THE BEVERLYSTUDIO-1-2-3 PN NHÀ PHỐ BIỆT THỰ VINHOMES GRAND PARK QUẬN 9 GIÁ GỐC LH 0909060***\n",
      "--- address is:  Dự án Vinhomes Grand Park quận 9, Quận 9, Hồ Chí Minh\n",
      "--- city is:  Hồ Chí Minh\n",
      "--- district is:  Quận 9\n",
      "--- project name is:  Vinhomes Grand Park\n",
      "--- investor is:  Tập đoàn Vingroup\n",
      "- Accessing profile:  https://batdongsan.com.vn/ban-can-ho-chung-cu-duong-thuan-giao-25-phuong-thuan-giao-prj-legacy-central/uu-dai-lon-dot-dich-covid-khi-khach-hang-mua-tai-an-lh-0938434950-pr30769090\n",
      "--- name is:  Giải pháp tài chính thời covid - Chỉ 225 triệu có thể mua nhà ngay thành phố\n",
      "--- address is:  Dự án Legacy Central, Đường Thuận Giao 25, Phường Thuận Giao, Thuận An, Bình Dương\n",
      "--- city is:  Bình Dương\n",
      "--- district is:  Thuận An\n",
      "--- project name is:  Legacy Central\n",
      "--- investor is:  Công ty CP Đầu tư và Phát triển Thuận Lợi\n",
      "--- price is :  954000000000\n",
      "--- area is:  32\n",
      "--- bedroom is:  1\n",
      "--- post date is:  23/11/2021\n",
      "--- expiration date is:  03/12/2021\n",
      "\n",
      "\n",
      "- Accessing profile:  https://batdongsan.com.vn/ban-can-ho-chung-cu-duong-dien-bien-phu-phuong-22-prj-vinhomes-central-park/vinmes-cao-cap-co-so-do-da-dang-nhieu-muc-gia-tu-1-2-3-4-png-ngu-pr31138310\n",
      "--- name is:  Bán căn hộ chung cư cao cấp Vinhomes Central Park có sổ đỏ giá tốt từ 1-2-3-4 phòng ngủ 0911156***\n",
      "--- address is:  Dự án Vinhomes Central Park, Đường Điện Biên Phủ, Phường 22, Bình Thạnh, Hồ Chí Minh\n",
      "--- city is:  Hồ Chí Minh\n",
      "--- district is:  Bình Thạnh\n",
      "--- project name is:  Vinhomes Central Park\n",
      "--- investor is:  Tập đoàn Vingroup\n",
      "- Accessing profile:  https://batdongsan.com.vn/ban-can-ho-chung-cu-duong-bo-bao-tan-thang-phuong-son-ky-prj-celadon-city/-ban-2-phong-ngu-view-bien-tang-dep-alnata-plus-tra-cham-0-lai-suat-pr26941113\n",
      "--- name is:  Cần bán căn 2 phòng ngủ view biển tầng đẹp Alnata Plus trả chậm 0% lãi suất - giá tốt.\n",
      "--- address is:  Dự án Celadon City, Đường Bờ Bao Tân Thắng, Phường Sơn Kỳ, Tân Phú, Hồ Chí Minh\n",
      "--- city is:  Hồ Chí Minh\n",
      "--- district is:  Tân Phú\n",
      "--- project name is:  Celadon City\n",
      "--- investor is:  Công ty TNHH Gamuda Land Việt Nam\n",
      "- Accessing profile:  https://batdongsan.com.vn/ban-can-ho-chung-cu-duong-dao-tri-phuong-phu-thuan-3-prj-q7-saigon-riverside/nam-gio-hang-sang-nhuong-toan-hot-gia-chi-tu-1-81-ty-chenh-it-goi-ngay-em-0937080094-pr31544859\n"
     ]
    },
    {
     "name": "stdout",
     "output_type": "stream",
     "text": [
      "--- name is:  Nắm giỏ hàng sang nhượng toàn căn hot, giá chỉ từ 1,81 tỷ, chênh ít - gọi ngay em 0937080094\n",
      "--- address is:  Dự án Q7 Saigon Riverside, Đường Đào Trí, Phường Phú Thuận, Quận 7, Hồ Chí Minh\n",
      "--- city is:  Hồ Chí Minh\n",
      "--- district is:  Quận 7\n",
      "--- project name is:  Q7 Saigon Riverside\n",
      "--- investor is:  Công ty CP Tập đoàn Hưng Thịnh\n",
      "- Accessing profile:  https://batdongsan.com.vn/ban-can-ho-chung-cu-duong-pham-hung-phuong-me-tri-prj-vinhomes-west-point/tong-hop-ch-qua-tang-toi-2-ty-1pn-1-5ty-2pn-2-8ty-3pn-3-9ty-4pn-5-2ty-pr31544183\n",
      "--- name is:  Tổng hợp CH Vinhomes West Point quà tặng tới 2tỷ; 1PN - 1,5tỷ; 2PN-2,8tỷ; 3PN-3,9tỷ; 4PN-5,2tỷ\n",
      "--- address is:  Dự án Vinhomes West Point, Đường Phạm Hùng, Phường Mễ Trì, Nam Từ Liêm, Hà Nội.\n",
      "--- city is:  Hà Nội\n",
      "--- district is:  Nam Từ Liêm\n",
      "--- project name is:  Vinhomes West Point\n",
      "--- investor is:  Tập đoàn Vingroup\n",
      "- Accessing profile:  https://batdongsan.com.vn/ban-can-ho-chung-cu-duong-3-2-2-phuong-12-5-prj-hado-centrosa-garden/bao-gia-ch-ha-do-mua-covid-2pn-5-5ty-2pn-6-9ty-3pn-10-1ty-duplex-14-9ty-0901387939-pr31137154\n",
      "--- name is:  Báo giá CH Hà Đô mùa Covid, 2PN 5.5 tỷ, 2PN + 6.9 tỷ, 3PN + 10.1 tỷ, duplex 14.9 tỷ: 0901387939\n",
      "--- address is:  Dự án HaDo Centrosa Garden, Đường 3/2, Phường 12, Quận 10, Hồ Chí Minh\n",
      "--- city is:  Hồ Chí Minh\n",
      "--- district is:  Quận 10\n",
      "--- project name is:  HaDo Centrosa Garden\n",
      "--- investor is:  Tập đoàn Hà Đô\n",
      "- Accessing profile:  https://batdongsan.com.vn/ban-can-ho-chung-cu-phuong-long-thanh-my-prj-vinhomes-grand-park/full-ro-hang-gia-goc-chu-dau-tu-rainbown-origami-beverly-manhattan-lh-0906806852-pr31539666\n",
      "--- name is:  Full rổ hàng giá gốc chủ đầu tư căn hộ rainbown, Origami, Beverly, Manhattan. Lh: 0906806***\n",
      "--- address is:  Dự án Vinhomes Grand Park quận 9, Phường Long Thạnh Mỹ, Quận 9, Hồ Chí Minh\n",
      "--- city is:  Hồ Chí Minh\n",
      "--- district is:  Quận 9\n",
      "--- project name is:  Vinhomes Grand Park\n",
      "--- investor is:  Tập đoàn Vingroup\n",
      "--- price is :  3000000000\n",
      "--- area is:  50\n",
      "- Accessing profile:  https://batdongsan.com.vn/ban-can-ho-chung-cu-duong-hong-ha-phuong-9-12-prj-orchard-garden/-ban-officetel-og-0205-chinh-chu-pr31534496\n",
      "--- name is:  Cần bán căn hộ officetel - OG 0205 - chính chủ\n",
      "--- address is:  Orchard Garden, 128, Đường Hồng Hà, Phường 9, Phú Nhuận, Hồ Chí Minh\n",
      "--- city is:  Hồ Chí Minh\n",
      "--- district is:  Phú Nhuận\n",
      "--- project name is:  Orchard Garden\n",
      "--- investor is:  Novaland Group\n",
      "Mission Completed!\n"
     ]
    }
   ],
   "source": [
    "# Task 4: Scrape the data of 1 Linkedin profile, and write the data to a .CSV file\n",
    "with open('output.csv', 'w',  newline = '') as file_output:\n",
    "    headers = ['name', 'address', 'city', 'district', 'project name', 'investor', 'price (tỷ)', 'area (m^2)', \n",
    "               'bedroom', 'post_date', 'expiration_date' ]\n",
    "    writer = csv.DictWriter(file_output, delimiter=',', lineterminator='\\n',fieldnames=headers)\n",
    "    writer.writeheader()    \n",
    "    for linkedin_URL in URLs_all_page:\n",
    "        driver.get(linkedin_URL)\n",
    "        print('- Accessing profile: ', linkedin_URL)\n",
    "\n",
    "        page_source = BeautifulSoup(driver.page_source, \"html.parser\")\n",
    "\n",
    "        info_div = page_source.find('div',{'class':'re__pr-info pr-info'})\n",
    "        dc = page_source.find(\"div\", {\"class\" : \"re__section re__pr-specs js__section\"}).find_all(\"div\", {\"class\" : \"re__list-standard-1line--md\"})\n",
    "        gia = page_source.find('div',{'class':'re__pr-short-info js__pr-short-info'}).find_all(\"div\", {\"class\" : \"re__pr-short-info-item js__pr-short-info-item\"})          \n",
    "        tt = page_source.find('div',{'class':'re__section re__pr-project js__section'}).find_all(\"div\", {\"class\" : \"re__list-standard-1line--md\"})          \n",
    "        ngay = page_source.find('div',{'class':'re__pr-short-info re__pr-config js__pr-config'}).find_all(\"div\", {\"class\" : \"re__pr-short-info-item js__pr-config-item\"})          \n",
    "\n",
    "        try:\n",
    "            name = info_div.find('h1', class_='re__pr-title pr-title').get_text().strip()  \n",
    "            print('--- name is: ', name)       \n",
    "            address = dc[1].find(\"span\", {\"class\" : \"value\"}).get_text().strip()\n",
    "            print('--- address is: ', address)\n",
    "            li = address.split(',')\n",
    "            city = li[-1].strip().strip('.')\n",
    "            district = li[-2].strip()\n",
    "            print('--- city is: ', city)\n",
    "            print('--- district is: ', district)\n",
    "\n",
    "            project_name = tt[0].find(\"span\", {\"class\" : \"value\"}).get_text().strip()\n",
    "            print('--- project name is: ', project_name)\n",
    "            investor = tt[1].find(\"span\", {\"class\" : \"value\"}).get_text().strip()\n",
    "            print('--- investor is: ', investor)\n",
    "\n",
    "            price = gia[0].find(\"span\", {\"class\" : \"value\"}).get_text().strip()\n",
    "            price = price.split(' ')\n",
    "            price = price[0]\n",
    "            print('--- price is : ', price)\n",
    "\n",
    "            area = gia[1].find(\"span\", {\"class\" : \"value\"}).get_text().strip()\n",
    "            area = area.split(' ')\n",
    "            area = area[0]\n",
    "            print('--- area is: ', area)\n",
    "\n",
    "            bedroom = gia[2].find(\"span\", {\"class\" : \"value\"}).get_text().strip()\n",
    "            bedroom = bedroom.split(' ')\n",
    "            bedroom = bedroom[0]\n",
    "            print('--- bedroom is: ', bedroom)\n",
    "\n",
    "            post_date = ngay[0].find(\"span\", {\"class\" : \"value\"}).get_text().strip()\n",
    "            expiration_date = ngay[1].find(\"span\", {\"class\" : \"value\"}).get_text().strip()\n",
    "            print('--- post date is: ', post_date)\n",
    "            print('--- expiration date is: ', expiration_date)\n",
    "            \n",
    "            writer.writerow({headers[0]:name, headers[1]:address, headers[2]:city, headers[3]:district, \n",
    "                             headers[4]:project_name, headers[5]:investor, headers[6]:price, headers[7]:area,\n",
    "                             headers[8]:bedroom, headers[9]:post_date, headers[10]:expiration_date})\n",
    "            print('\\n')\n",
    "        except:\n",
    "            pass\n",
    "print('Mission Completed!')"
   ]
  },
  {
   "cell_type": "code",
   "execution_count": null,
   "metadata": {},
   "outputs": [],
   "source": []
  }
 ],
 "metadata": {
  "kernelspec": {
   "display_name": "Python 3",
   "language": "python",
   "name": "python3"
  },
  "language_info": {
   "codemirror_mode": {
    "name": "ipython",
    "version": 3
   },
   "file_extension": ".py",
   "mimetype": "text/x-python",
   "name": "python",
   "nbconvert_exporter": "python",
   "pygments_lexer": "ipython3",
   "version": "3.7.6"
  }
 },
 "nbformat": 4,
 "nbformat_minor": 4
}
