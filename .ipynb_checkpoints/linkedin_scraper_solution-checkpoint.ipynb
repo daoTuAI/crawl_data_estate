{
 "cells": [
  {
   "cell_type": "code",
   "execution_count": 25,
   "metadata": {},
   "outputs": [
    {
     "name": "stdout",
     "output_type": "stream",
     "text": [
      "- Finish importing packages\n"
     ]
    }
   ],
   "source": [
    "# Import libraries and packages for the project \n",
    "\n",
    "from selenium import webdriver\n",
    "from selenium.webdriver.common.keys import Keys\n",
    "from bs4 import BeautifulSoup\n",
    "from time import sleep\n",
    "import csv\n",
    "\n",
    "print('- Finish importing packages')"
   ]
  },
  {
   "cell_type": "code",
   "execution_count": 26,
   "metadata": {},
   "outputs": [
    {
     "name": "stderr",
     "output_type": "stream",
     "text": [
      "/home/congtu/anaconda3/lib/python3.7/site-packages/ipykernel_launcher.py:4: DeprecationWarning: executable_path has been deprecated, please pass in a Service object\n",
      "  after removing the cwd from sys.path.\n"
     ]
    },
    {
     "name": "stdout",
     "output_type": "stream",
     "text": [
      "- Finish initializing a driver\n",
      "- Finish importing the login credentials\n"
     ]
    },
    {
     "name": "stderr",
     "output_type": "stream",
     "text": [
      "/home/congtu/anaconda3/lib/python3.7/site-packages/ipykernel_launcher.py:21: DeprecationWarning: find_element_by_* commands are deprecated. Please use find_element() instead\n"
     ]
    },
    {
     "name": "stdout",
     "output_type": "stream",
     "text": [
      "- Finish keying in email\n"
     ]
    },
    {
     "name": "stderr",
     "output_type": "stream",
     "text": [
      "/home/congtu/anaconda3/lib/python3.7/site-packages/ipykernel_launcher.py:26: DeprecationWarning: find_element_by_* commands are deprecated. Please use find_element() instead\n"
     ]
    },
    {
     "name": "stdout",
     "output_type": "stream",
     "text": [
      "- Finish keying in password\n"
     ]
    },
    {
     "name": "stderr",
     "output_type": "stream",
     "text": [
      "/home/congtu/anaconda3/lib/python3.7/site-packages/ipykernel_launcher.py:32: DeprecationWarning: find_element_by_* commands are deprecated. Please use find_element() instead\n"
     ]
    },
    {
     "name": "stdout",
     "output_type": "stream",
     "text": [
      "- Finish Task 1: login.txt to Linkedin\n"
     ]
    }
   ],
   "source": [
    "# Task 1: Login to Linkedin\n",
    "\n",
    "# Task 1.1: Open Chrome and Access Linkedin login site\n",
    "driver = webdriver.Chrome(\"/home/congtu/Documents/Hoc/XuLyDuLieuLon/BTL/Crawl_data/chromedriver\")\n",
    "driver.set_window_size(1920,1080)\n",
    "sleep(2)\n",
    "url = 'https://www.linkedin.com/login'\n",
    "driver.get(url)\n",
    "print('- Finish initializing a driver')\n",
    "sleep(2)\n",
    "\n",
    "# Task 1.2: Import username and password\n",
    "credential = open('/home/congtu/Documents/Hoc/XuLyDuLieuLon/BTL/Crawl_data/login.txt')\n",
    "line = credential.readlines()\n",
    "username = line[0]\n",
    "password = line[1]\n",
    "print('- Finish importing the login credentials')\n",
    "sleep(2)\n",
    "\n",
    "# Task 1.2: Key in login credentials\n",
    "email_field = driver.find_element_by_id('username')\n",
    "email_field.send_keys(username)\n",
    "print('- Finish keying in email')\n",
    "sleep(3)\n",
    "\n",
    "password_field = driver.find_element_by_name('session_password')\n",
    "password_field.send_keys(password)\n",
    "print('- Finish keying in password')\n",
    "sleep(2)\n",
    "\n",
    "# Task 1.2: Click the Login button\n",
    "signin_field = driver.find_element_by_xpath('//*[@id=\"organic-div\"]/form/div[3]/button')\n",
    "signin_field.click()\n",
    "sleep(3)\n",
    "\n",
    "print('- Finish Task 1: login.txt to Linkedin')"
   ]
  },
  {
   "cell_type": "code",
   "execution_count": 39,
   "metadata": {},
   "outputs": [
    {
     "name": "stderr",
     "output_type": "stream",
     "text": [
      "/home/congtu/anaconda3/lib/python3.7/site-packages/ipykernel_launcher.py:3: DeprecationWarning: find_element_by_* commands are deprecated. Please use find_element() instead\n",
      "  This is separate from the ipykernel package so we can avoid doing imports until\n"
     ]
    },
    {
     "name": "stdout",
     "output_type": "stream",
     "text": [
      "What profile do you want to scrape? Brian Burke\n"
     ]
    },
    {
     "name": "stderr",
     "output_type": "stream",
     "text": [
      "/home/congtu/anaconda3/lib/python3.7/site-packages/ipykernel_launcher.py:12: DeprecationWarning: find_element_by_* commands are deprecated. Please use find_element() instead\n",
      "  if sys.path[0] == '':\n"
     ]
    },
    {
     "name": "stdout",
     "output_type": "stream",
     "text": [
      "- Finish Task 2: Search for profiles\n"
     ]
    }
   ],
   "source": [
    "# Task 2: Search for the profile we want to crawl\n",
    "# Task 2.1: Locate the search bar element\n",
    "search_field = driver.find_element_by_xpath('//*[@class=\"search-global-typeahead__input always-show-placeholder\"]')\n",
    "# Task 2.2: Input the search query to the search bar\n",
    "search_query = input('What profile do you want to scrape? ')\n",
    "search_field.send_keys(search_query)\n",
    "\n",
    "# Task 2.3: Search\n",
    "search_field.send_keys(Keys.RETURN)\n",
    "sleep(3)\n",
    "\n",
    "people_field = driver.find_element_by_xpath('/html/body/div[6]/div[3]/div/div[2]/section/div/nav/div/ul/li[1]/button')\n",
    "people_field.click()\n",
    "sleep(3)\n",
    "\n",
    "print('- Finish Task 2: Search for profiles')"
   ]
  },
  {
   "cell_type": "code",
   "execution_count": 40,
   "metadata": {},
   "outputs": [
    {
     "name": "stdout",
     "output_type": "stream",
     "text": [
      "How many pages you want to scrape: 1\n"
     ]
    },
    {
     "name": "stderr",
     "output_type": "stream",
     "text": [
      "/home/congtu/anaconda3/lib/python3.7/site-packages/ipykernel_launcher.py:24: DeprecationWarning: find_element_by_* commands are deprecated. Please use find_element() instead\n"
     ]
    },
    {
     "name": "stdout",
     "output_type": "stream",
     "text": [
      "- Finish Task 3: Scrape the URLs\n"
     ]
    }
   ],
   "source": [
    "# Task 3: Scrape the URLs of the profiles\n",
    "# Task 3.1: Write a function to extract the URLs of one page\n",
    "def GetURL():\n",
    "    page_source = BeautifulSoup(driver.page_source, \"html.parser\")\n",
    "    profiles = page_source.find_all('a', class_ = 'app-aware-link') #('a', class_ = 'search-result__result-link ember-view')\n",
    "    all_profile_URL = []\n",
    "    for profile in profiles:\n",
    "        # profile_ID = profile.get('href')\n",
    "        # profile_URL = \"https://www.linkedin.com\" + profile_ID\n",
    "        profile_URL = profile.get('href')\n",
    "        if profile_URL not in all_profile_URL:\n",
    "            all_profile_URL.append(profile_URL)\n",
    "    return all_profile_URL\n",
    "\n",
    "\n",
    "# Task 3.2: Navigate through many page, and extract the profile URLs of each page\n",
    "input_page = int(input('How many pages you want to scrape: '))\n",
    "URLs_all_page = []\n",
    "for page in range(input_page):\n",
    "    URLs_one_page = GetURL()\n",
    "    sleep(2)\n",
    "    driver.execute_script('window.scrollTo(0, document.body.scrollHeight);') #scroll to the end of the page\n",
    "    sleep(3)\n",
    "    next_button = driver.find_element_by_class_name(\"artdeco-pagination__button--next\")\n",
    "    driver.execute_script(\"arguments[0].click();\", next_button)\n",
    "    URLs_all_page = URLs_all_page + URLs_one_page\n",
    "    sleep(2)\n",
    "\n",
    "print('- Finish Task 3: Scrape the URLs')"
   ]
  },
  {
   "cell_type": "code",
   "execution_count": 44,
   "metadata": {},
   "outputs": [
    {
     "name": "stdout",
     "output_type": "stream",
     "text": [
      "<div class=\"pb2 pv-text-details__left-panel\">\n",
      "<span class=\"text-body-small inline t-black--light break-words\">\n",
      "      Los Angeles Metropolitan Area\n",
      "    </span>\n",
      "<span class=\"pv-text-details__separator t-black--light\">\n",
      "<a class=\"ember-view link-without-visited-state cursor-pointer text-heading-small inline-block break-words\" href=\"/in/brian-burke-a2914b50/detail/contact-info/\" id=\"ember48\">\n",
      "          Contact info\n",
      "        </a>\n",
      "</span>\n",
      "</div>\n"
     ]
    }
   ],
   "source": [
    "info_div = page_source.find('div',{'class':'pb2 pv-text-details__left-panel'})\n",
    "print(info_div)"
   ]
  },
  {
   "cell_type": "code",
   "execution_count": 49,
   "metadata": {},
   "outputs": [
    {
     "name": "stdout",
     "output_type": "stream",
     "text": [
      "--- Profile name is:  \n",
      "      Los Angeles Metropolitan Area\n",
      "    \n"
     ]
    }
   ],
   "source": [
    "name = info_div.find('span', class_='text-body-small inline t-black--light break-words').get_text() #Remove unnecessary characters \n",
    "print('--- Profile name is: ', name)"
   ]
  },
  {
   "cell_type": "code",
   "execution_count": null,
   "metadata": {},
   "outputs": [],
   "source": [
    "# Task 4: Scrape the data of 1 Linkedin profile, and write the data to a .CSV file\n",
    "with open('output.csv', 'w',  newline = '') as file_output:\n",
    "    headers = ['Name', 'Job Title', 'Location', 'URL']\n",
    "    writer = csv.DictWriter(file_output, delimiter=',', lineterminator='\\n',fieldnames=headers)\n",
    "    writer.writeheader()\n",
    "    for linkedin_URL in URLs_all_page:\n",
    "        driver.get(linkedin_URL)\n",
    "        print('- Accessing profile: ', linkedin_URL)\n",
    "        sleep(3)\n",
    "        page_source = BeautifulSoup(driver.page_source, \"html.parser\")\n",
    "        info_div = page_source.find('div',{'class':'pb2 pv-text-details__left-panel'})\n",
    "        try:\n",
    "            name = info_div.find('span', class_='text-body-small inline t-black--light break-words').get_text().strip() #Remove unnecessary characters \n",
    "            print('--- Profile name is: ', name)\n",
    "            location = info_div.find('li', class_='pv-text-details__separator t-black--light').get_text().strip() #Remove unnecessary characters \n",
    "            print('--- Profile location is: ', location)\n",
    "            title = info_div.find('h2', class_='text-body-medium break-words').get_text().strip()\n",
    "            print('--- Profile title is: ', title)\n",
    "            writer.writerow({headers[0]:name, headers[1]:location, headers[2]:title, headers[3]:linkedin_URL})\n",
    "            print('\\n')\n",
    "        except:\n",
    "            pass\n",
    "\n",
    "print('Mission Completed!')"
   ]
  },
  {
   "cell_type": "code",
   "execution_count": 51,
   "metadata": {},
   "outputs": [
    {
     "name": "stdout",
     "output_type": "stream",
     "text": [
      "- Accessing profile:  https://www.linkedin.com/in/brianthemacman?miniProfileUrn=urn%3Ali%3Afs_miniProfile%3AACoAAAJkUmsBakCXPTnhW2npe9YzwMtSR9cRz8s\n",
      "--- Profile name is:  Cincinnati, Ohio, United States\n",
      "- Accessing profile:  https://www.linkedin.com/in/ACoAAAJkUmsBakCXPTnhW2npe9YzwMtSR9cRz8s\n",
      "--- Profile name is:  Cincinnati, Ohio, United States\n",
      "- Accessing profile:  https://www.linkedin.com/in/brian-burke-esquire-69103a8?miniProfileUrn=urn%3Ali%3Afs_miniProfile%3AACoAAAFtuk0BFCxS6itc6s7CUDW1sOe3wMo_-HQ\n",
      "--- Profile name is:  Worcester, Massachusetts, United States\n",
      "- Accessing profile:  https://www.linkedin.com/in/brian-c-burke?miniProfileUrn=urn%3Ali%3Afs_miniProfile%3AACoAAAI-ENIBC3rgWzw-xKHHkkjb_fKIUV2rKuY\n",
      "--- Profile name is:  Castle Rock, Colorado, United States\n",
      "- Accessing profile:  https://www.linkedin.com/in/brian-burke-7a455122?miniProfileUrn=urn%3Ali%3Afs_miniProfile%3AACoAAAS1PCwBZ8RxTRgHBUu67fiSavTp1JaokLM\n",
      "--- Profile name is:  Portland, Oregon Metropolitan Area\n",
      "- Accessing profile:  https://www.linkedin.com/in/brian-burke-management?miniProfileUrn=urn%3Ali%3Afs_miniProfile%3AACoAADDgyugBGcU1qBx1dZzEVxwonPWvZb9V-qc\n",
      "--- Profile name is:  Ottawa, Ontario, Canada\n",
      "- Accessing profile:  https://www.linkedin.com/in/brianburkephd?miniProfileUrn=urn%3Ali%3Afs_miniProfile%3AACoAAAE05N0B0x2elFjuCiJo5t56PC98INFwWlE\n",
      "--- Profile name is:  East Cambridgeshire, England, United Kingdom\n",
      "- Accessing profile:  https://www.linkedin.com/in/brian-burke-9a06611a1?miniProfileUrn=urn%3Ali%3Afs_miniProfile%3AACoAAC9CykgBhi4bnLEg1__P4O8uOKccpec8PVE\n",
      "--- Profile name is:  Greensboro--Winston-Salem--High Point Area\n",
      "- Accessing profile:  https://www.linkedin.com/in/brian-burke-a2a21373?miniProfileUrn=urn%3Ali%3Afs_miniProfile%3AACoAAA-D8wIBbc3rL7ghmNgfut67EKO3t4QNsBA\n",
      "--- Profile name is:  Toronto, Ontario, Canada\n",
      "- Accessing profile:  https://www.linkedin.com/in/praxiscapital?miniProfileUrn=urn%3Ali%3Afs_miniProfile%3AACoAAAJczecBqRWKYOUe6uut02KO3LPeUU5V5IE\n",
      "--- Profile name is:  Santa Rosa, California, United States\n",
      "- Accessing profile:  https://www.linkedin.com/in/brian-burke-a2914b50?miniProfileUrn=urn%3Ali%3Afs_miniProfile%3AACoAAAqzIAEB-ejeXxbyl2v114M1Sca37VQy28U\n",
      "--- Profile name is:  Los Angeles Metropolitan Area\n",
      "Mission Completed!\n"
     ]
    }
   ],
   "source": [
    "# Task 4: Scrape the data of 1 Linkedin profile, and write the data to a .CSV file\n",
    "with open('output.csv', 'w',  newline = '') as file_output:\n",
    "    headers = ['Name', 'Job Title', 'Location', 'URL']\n",
    "    writer = csv.DictWriter(file_output, delimiter=',', lineterminator='\\n',fieldnames=headers)\n",
    "    writer.writeheader()\n",
    "    for linkedin_URL in URLs_all_page:\n",
    "        driver.get(linkedin_URL)\n",
    "        print('- Accessing profile: ', linkedin_URL)\n",
    "        sleep(3)\n",
    "        page_source = BeautifulSoup(driver.page_source, \"html.parser\")\n",
    "        info_div = page_source.find('div',{'class':'pb2 pv-text-details__left-panel'})\n",
    "        try:\n",
    "            name = info_div.find('span', class_='text-body-small inline t-black--light break-words').get_text().strip() #Remove unnecessary characters \n",
    "            print('--- Profile name is: ', name)\n",
    "            location = info_div.find('li', class_='pv-text-details__separator t-black--light').get_text().strip() #Remove unnecessary characters \n",
    "            print('--- Profile location is: ', location)\n",
    "            title = info_div.find('h2', class_='text-body-medium break-words').get_text().strip()\n",
    "            print('--- Profile title is: ', title)\n",
    "            writer.writerow({headers[0]:name, headers[1]:location, headers[2]:title, headers[3]:linkedin_URL})\n",
    "            print('\\n')\n",
    "        except:\n",
    "            pass\n",
    "\n",
    "print('Mission Completed!')"
   ]
  },
  {
   "cell_type": "code",
   "execution_count": 55,
   "metadata": {},
   "outputs": [
    {
     "name": "stdout",
     "output_type": "stream",
     "text": [
      "- Accessing profile:  https://www.linkedin.com/in/brianthemacman?miniProfileUrn=urn%3Ali%3Afs_miniProfile%3AACoAAAJkUmsBakCXPTnhW2npe9YzwMtSR9cRz8s\n",
      "--- Profile name is:  Cincinnati, Ohio, United States\n",
      "--- Profile location is:  a\n",
      "--- Profile title is:  b\n",
      "\n",
      "\n",
      "- Accessing profile:  https://www.linkedin.com/in/ACoAAAJkUmsBakCXPTnhW2npe9YzwMtSR9cRz8s\n",
      "--- Profile name is:  Cincinnati, Ohio, United States\n",
      "--- Profile location is:  a\n",
      "--- Profile title is:  b\n",
      "\n",
      "\n",
      "- Accessing profile:  https://www.linkedin.com/in/brian-burke-esquire-69103a8?miniProfileUrn=urn%3Ali%3Afs_miniProfile%3AACoAAAFtuk0BFCxS6itc6s7CUDW1sOe3wMo_-HQ\n",
      "--- Profile name is:  Worcester, Massachusetts, United States\n",
      "--- Profile location is:  a\n",
      "--- Profile title is:  b\n",
      "\n",
      "\n",
      "- Accessing profile:  https://www.linkedin.com/in/brian-c-burke?miniProfileUrn=urn%3Ali%3Afs_miniProfile%3AACoAAAI-ENIBC3rgWzw-xKHHkkjb_fKIUV2rKuY\n",
      "--- Profile name is:  Castle Rock, Colorado, United States\n",
      "--- Profile location is:  a\n",
      "--- Profile title is:  b\n",
      "\n",
      "\n",
      "- Accessing profile:  https://www.linkedin.com/in/brian-burke-7a455122?miniProfileUrn=urn%3Ali%3Afs_miniProfile%3AACoAAAS1PCwBZ8RxTRgHBUu67fiSavTp1JaokLM\n",
      "--- Profile name is:  Portland, Oregon Metropolitan Area\n",
      "--- Profile location is:  a\n",
      "--- Profile title is:  b\n",
      "\n",
      "\n",
      "- Accessing profile:  https://www.linkedin.com/in/brian-burke-management?miniProfileUrn=urn%3Ali%3Afs_miniProfile%3AACoAADDgyugBGcU1qBx1dZzEVxwonPWvZb9V-qc\n",
      "--- Profile name is:  Ottawa, Ontario, Canada\n",
      "--- Profile location is:  a\n",
      "--- Profile title is:  b\n",
      "\n",
      "\n",
      "- Accessing profile:  https://www.linkedin.com/in/brianburkephd?miniProfileUrn=urn%3Ali%3Afs_miniProfile%3AACoAAAE05N0B0x2elFjuCiJo5t56PC98INFwWlE\n",
      "--- Profile name is:  East Cambridgeshire, England, United Kingdom\n",
      "--- Profile location is:  a\n",
      "--- Profile title is:  b\n",
      "\n",
      "\n",
      "- Accessing profile:  https://www.linkedin.com/in/brian-burke-9a06611a1?miniProfileUrn=urn%3Ali%3Afs_miniProfile%3AACoAAC9CykgBhi4bnLEg1__P4O8uOKccpec8PVE\n",
      "--- Profile name is:  Greensboro--Winston-Salem--High Point Area\n",
      "--- Profile location is:  a\n",
      "--- Profile title is:  b\n",
      "\n",
      "\n",
      "- Accessing profile:  https://www.linkedin.com/in/brian-burke-a2a21373?miniProfileUrn=urn%3Ali%3Afs_miniProfile%3AACoAAA-D8wIBbc3rL7ghmNgfut67EKO3t4QNsBA\n",
      "--- Profile name is:  Toronto, Ontario, Canada\n",
      "--- Profile location is:  a\n",
      "--- Profile title is:  b\n",
      "\n",
      "\n",
      "- Accessing profile:  https://www.linkedin.com/in/praxiscapital?miniProfileUrn=urn%3Ali%3Afs_miniProfile%3AACoAAAJczecBqRWKYOUe6uut02KO3LPeUU5V5IE\n",
      "--- Profile name is:  Santa Rosa, California, United States\n",
      "--- Profile location is:  a\n",
      "--- Profile title is:  b\n",
      "\n",
      "\n",
      "- Accessing profile:  https://www.linkedin.com/in/brian-burke-a2914b50?miniProfileUrn=urn%3Ali%3Afs_miniProfile%3AACoAAAqzIAEB-ejeXxbyl2v114M1Sca37VQy28U\n",
      "--- Profile name is:  Los Angeles Metropolitan Area\n",
      "--- Profile location is:  a\n",
      "--- Profile title is:  b\n",
      "\n",
      "\n",
      "Mission Completed!\n"
     ]
    }
   ],
   "source": [
    "with open('output.csv', 'w',  newline = '') as file_output:\n",
    "    headers = ['Name', 'Job Title', 'Location', 'URL']\n",
    "    writer = csv.DictWriter(file_output, delimiter=',', lineterminator='\\n',fieldnames=headers)\n",
    "    writer.writeheader()\n",
    "    for linkedin_URL in URLs_all_page:\n",
    "        driver.get(linkedin_URL)\n",
    "        print('- Accessing profile: ', linkedin_URL)\n",
    "\n",
    "        page_source = BeautifulSoup(driver.page_source, \"html.parser\")\n",
    "\n",
    "        info_div = page_source.find('div',{'class':'pb2 pv-text-details__left-panel'})\n",
    "        \n",
    "        name = info_div.find('span', class_='text-body-small inline t-black--light break-words').get_text().strip() #Remove unnecessary characters \n",
    "        print('--- Profile name is: ', name)\n",
    "        location =  'a' \n",
    "        print('--- Profile location is: ', location)\n",
    "        title = 'b'\n",
    "        print('--- Profile title is: ', title)\n",
    "        writer.writerow({headers[0]:name, headers[1]:location, headers[2]:title, headers[3]:linkedin_URL})\n",
    "        print('\\n')\n",
    "\n",
    "print('Mission Completed!')"
   ]
  },
  {
   "cell_type": "code",
   "execution_count": null,
   "metadata": {},
   "outputs": [],
   "source": []
  }
 ],
 "metadata": {
  "kernelspec": {
   "display_name": "Python 3",
   "language": "python",
   "name": "python3"
  },
  "language_info": {
   "codemirror_mode": {
    "name": "ipython",
    "version": 3
   },
   "file_extension": ".py",
   "mimetype": "text/x-python",
   "name": "python",
   "nbconvert_exporter": "python",
   "pygments_lexer": "ipython3",
   "version": "3.7.6"
  }
 },
 "nbformat": 4,
 "nbformat_minor": 4
}
